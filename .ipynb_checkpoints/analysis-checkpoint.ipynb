{
 "cells": [
  {
   "cell_type": "code",
   "execution_count": 32,
   "id": "314d3b54",
   "metadata": {},
   "outputs": [],
   "source": [
    "import pandas as pd\n",
    "import glob\n",
    "from datetime import datetime"
   ]
  },
  {
   "cell_type": "code",
   "execution_count": 33,
   "id": "f2529ba5",
   "metadata": {},
   "outputs": [
    {
     "name": "stderr",
     "output_type": "stream",
     "text": [
      "C:\\Users\\egads\\anaconda3\\lib\\site-packages\\IPython\\core\\interactiveshell.py:3357: DtypeWarning: Columns (0) have mixed types.Specify dtype option on import or set low_memory=False.\n",
      "  if (await self.run_code(code, result,  async_=asy)):\n"
     ]
    }
   ],
   "source": [
    "l = [pd.read_csv(filename) for filename in glob.glob(\"dataset/*.csv\")]\n",
    "df = pd.concat(l, axis=0)\n",
    "df['date'] = df['OCCURRED_ON_DATE'].apply(lambda x: x.split()[0])\n",
    "df['date']  = df['date'].apply(lambda x:datetime.strptime(x, '%Y-%m-%d') )\n",
    "#print(len(df))\n",
    "#print(df.info())\n",
    "df_2017 = df.loc[df['YEAR'] == 2017 ]\n",
    "df_2018 = df.loc[df['YEAR'] == 2018 ]\n",
    "df_2019 = df.loc[df['YEAR'] == 2019 ]\n",
    "df_2020 = df.loc[df['YEAR'] == 2020 ]\n",
    "df_2021 = df.loc[df['YEAR'] == 2021 ]"
   ]
  }
 ],
 "metadata": {
  "kernelspec": {
   "display_name": "Python 3",
   "language": "python",
   "name": "python3"
  },
  "language_info": {
   "codemirror_mode": {
    "name": "ipython",
    "version": 3
   },
   "file_extension": ".py",
   "mimetype": "text/x-python",
   "name": "python",
   "nbconvert_exporter": "python",
   "pygments_lexer": "ipython3",
   "version": "3.8.8"
  }
 },
 "nbformat": 4,
 "nbformat_minor": 5
}
