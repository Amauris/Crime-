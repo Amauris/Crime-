{
 "cells": [
  {
   "cell_type": "code",
   "execution_count": 22,
   "id": "314d3b54",
   "metadata": {},
   "outputs": [],
   "source": [
    "import pandas as pd\n",
    "import glob"
   ]
  },
  {
   "cell_type": "code",
   "execution_count": 24,
   "id": "f2529ba5",
   "metadata": {},
   "outputs": [
    {
     "name": "stdout",
     "output_type": "stream",
     "text": [
      "352384\n",
      "<class 'pandas.core.frame.DataFrame'>\n",
      "Int64Index: 352384 entries, 0 to 61481\n",
      "Data columns (total 17 columns):\n",
      " #   Column               Non-Null Count   Dtype  \n",
      "---  ------               --------------   -----  \n",
      " 0   INCIDENT_NUMBER      352384 non-null  object \n",
      " 1   OFFENSE_CODE         352384 non-null  int64  \n",
      " 2   OFFENSE_CODE_GROUP   200226 non-null  object \n",
      " 3   OFFENSE_DESCRIPTION  352384 non-null  object \n",
      " 4   DISTRICT             349846 non-null  object \n",
      " 5   REPORTING_AREA       352384 non-null  object \n",
      " 6   SHOOTING             153017 non-null  object \n",
      " 7   OCCURRED_ON_DATE     352384 non-null  object \n",
      " 8   YEAR                 352384 non-null  int64  \n",
      " 9   MONTH                352384 non-null  int64  \n",
      " 10  DAY_OF_WEEK          352384 non-null  object \n",
      " 11  HOUR                 352384 non-null  int64  \n",
      " 12  UCR_PART             200167 non-null  object \n",
      " 13  STREET               347383 non-null  object \n",
      " 14  Lat                  338926 non-null  float64\n",
      " 15  Long                 338926 non-null  float64\n",
      " 16  Location             352384 non-null  object \n",
      "dtypes: float64(2), int64(4), object(11)\n",
      "memory usage: 48.4+ MB\n",
      "None\n"
     ]
    }
   ],
   "source": [
    "l = [pd.read_csv(filename) for filename in glob.glob(\"dataset/*.csv\")]\n",
    "df = pd.concat(l, axis=0)\n",
    "print(len(df))\n",
    "print(df.info())"
   ]
  },
  {
   "cell_type": "code",
   "execution_count": null,
   "id": "f3ad63e7",
   "metadata": {},
   "outputs": [],
   "source": []
  }
 ],
 "metadata": {
  "kernelspec": {
   "display_name": "Python 3",
   "language": "python",
   "name": "python3"
  },
  "language_info": {
   "codemirror_mode": {
    "name": "ipython",
    "version": 3
   },
   "file_extension": ".py",
   "mimetype": "text/x-python",
   "name": "python",
   "nbconvert_exporter": "python",
   "pygments_lexer": "ipython3",
   "version": "3.8.8"
  }
 },
 "nbformat": 4,
 "nbformat_minor": 5
}
